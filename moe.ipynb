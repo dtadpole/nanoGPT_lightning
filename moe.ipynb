{
 "cells": [
  {
   "cell_type": "code",
   "execution_count": 15,
   "metadata": {},
   "outputs": [],
   "source": [
    "import math\n",
    "import torch\n",
    "import torch.nn as nn\n",
    "import torch.nn.functional as F\n"
   ]
  },
  {
   "cell_type": "code",
   "execution_count": 16,
   "metadata": {},
   "outputs": [],
   "source": [
    "choice = nn.Parameter(torch.empty(8, 768))\n",
    "w1 = nn.Parameter(torch.empty(8, 768*4, 768))\n",
    "w2 = nn.Parameter(torch.empty(8, 768, 768*4))\n",
    "silu = nn.SiLU()\n",
    "dropout = nn.Dropout(0.1)\n",
    "\n",
    "nn.init.kaiming_uniform_(choice, a=math.sqrt(5))\n",
    "nn.init.kaiming_uniform_(w1, a=math.sqrt(5))\n",
    "nn.init.kaiming_uniform_(w2, a=math.sqrt(5))\n",
    "\n",
    "x = torch.randn(3, 1024, 768)\n"
   ]
  },
  {
   "cell_type": "code",
   "execution_count": 17,
   "metadata": {},
   "outputs": [],
   "source": [
    "choice = x @ torch.transpose(choice, -1, -2) # (batch_size, n_seq_len, n_experts)\n",
    "choice = F.softmax(choice, dim=-1)\n"
   ]
  },
  {
   "cell_type": "code",
   "execution_count": 18,
   "metadata": {},
   "outputs": [
    {
     "data": {
      "text/plain": [
       "torch.Size([3, 8, 256, 1024])"
      ]
     },
     "execution_count": 18,
     "metadata": {},
     "output_type": "execute_result"
    }
   ],
   "source": [
    "k = 1024 * 2 // 8 # 1024 * 2 // 8 = 256\n",
    "G, I = torch.topk(torch.transpose(choice, -1, -2), k) # (batch_size, n_experts, k)\n",
    "P = F.one_hot(I, num_classes=1024) # (batch_size, n_experts, k, n_seq_len)\n",
    "P = P.to(x.dtype)\n",
    "P.shape"
   ]
  },
  {
   "cell_type": "code",
   "execution_count": 19,
   "metadata": {},
   "outputs": [],
   "source": [
    "x_in = torch.einsum('beks,bsd->bekd', P, x) # (batch_size, n_experts, k, d_model)\n"
   ]
  },
  {
   "cell_type": "code",
   "execution_count": 20,
   "metadata": {},
   "outputs": [
    {
     "data": {
      "text/plain": [
       "torch.Size([3, 8, 256, 768])"
      ]
     },
     "execution_count": 20,
     "metadata": {},
     "output_type": "execute_result"
    }
   ],
   "source": [
    "x_mlp = silu(x_in @ torch.transpose(w1, -1, -2)) @ torch.transpose(w2, -1, -2)\n",
    "x_mlp.shape\n"
   ]
  },
  {
   "cell_type": "code",
   "execution_count": 21,
   "metadata": {},
   "outputs": [
    {
     "data": {
      "text/plain": [
       "torch.Size([3, 8, 1024, 768])"
      ]
     },
     "execution_count": 21,
     "metadata": {},
     "output_type": "execute_result"
    }
   ],
   "source": [
    "x_e = torch.einsum('beks,bekd->besd', P, x_mlp) # (batch_size, n_experts, k, d_model)\n",
    "x_e.shape\n",
    "\n"
   ]
  },
  {
   "cell_type": "code",
   "execution_count": 22,
   "metadata": {},
   "outputs": [
    {
     "data": {
      "text/plain": [
       "torch.Size([3, 1024, 768])"
      ]
     },
     "execution_count": 22,
     "metadata": {},
     "output_type": "execute_result"
    }
   ],
   "source": [
    "x_out = torch.einsum('beks,bek,besd->bsd', P, G, x_e)\n",
    "x_out.shape\n"
   ]
  },
  {
   "cell_type": "code",
   "execution_count": 23,
   "metadata": {},
   "outputs": [
    {
     "data": {
      "text/plain": [
       "torch.Size([3, 1024, 768])"
      ]
     },
     "execution_count": 23,
     "metadata": {},
     "output_type": "execute_result"
    }
   ],
   "source": [
    "x_out = dropout(x_out)\n",
    "x_out.shape"
   ]
  },
  {
   "cell_type": "code",
   "execution_count": null,
   "metadata": {},
   "outputs": [],
   "source": []
  }
 ],
 "metadata": {
  "kernelspec": {
   "display_name": "torch20",
   "language": "python",
   "name": "python3"
  },
  "language_info": {
   "codemirror_mode": {
    "name": "ipython",
    "version": 3
   },
   "file_extension": ".py",
   "mimetype": "text/x-python",
   "name": "python",
   "nbconvert_exporter": "python",
   "pygments_lexer": "ipython3",
   "version": "3.12.4"
  }
 },
 "nbformat": 4,
 "nbformat_minor": 2
}
